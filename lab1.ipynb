{
  "nbformat": 4,
  "nbformat_minor": 0,
  "metadata": {
    "colab": {
      "provenance": []
    },
    "kernelspec": {
      "name": "python3",
      "display_name": "Python 3"
    },
    "language_info": {
      "name": "python"
    }
  },
  "cells": [
    {
      "cell_type": "code",
      "execution_count": null,
      "metadata": {
        "colab": {
          "base_uri": "https://localhost:8080/"
        },
        "id": "7pw0sZxeEih6",
        "outputId": "92fdbe45-27c8-4aae-b154-eb54807e37da"
      },
      "outputs": [
        {
          "output_type": "stream",
          "name": "stdout",
          "text": [
            "hello world\n"
          ]
        }
      ],
      "source": [
        "print(\"hello world\")"
      ]
    },
    {
      "cell_type": "code",
      "source": [
        "x=1\n",
        "#The initial value of x is 1\n",
        "if x>0:\n",
        "  print(\"These are two comments\") #Print a string."
      ],
      "metadata": {
        "colab": {
          "base_uri": "https://localhost:8080/"
        },
        "id": "XTPy7sQZEoG7",
        "outputId": "282d65d4-6c6d-495b-db2b-d7a5815f4776"
      },
      "execution_count": null,
      "outputs": [
        {
          "output_type": "stream",
          "name": "stdout",
          "text": [
            "These are two comments\n"
          ]
        }
      ]
    },
    {
      "cell_type": "code",
      "source": [
        "print(\"Statement1\")\n",
        "print(\"Statement2\")\n",
        "\n",
        "#YOu can write above two statements in the following way\n",
        "print(\"Statement1\");print(\"Statement2\")"
      ],
      "metadata": {
        "colab": {
          "base_uri": "https://localhost:8080/"
        },
        "id": "7P18vk2eFRhJ",
        "outputId": "99383c91-4b6b-4870-d13a-aad64eec208c"
      },
      "execution_count": null,
      "outputs": [
        {
          "output_type": "stream",
          "name": "stdout",
          "text": [
            "Statement1\n",
            "Statement2\n",
            "Statement1\n",
            "Statement2\n"
          ]
        }
      ]
    },
    {
      "cell_type": "code",
      "source": [
        " a=1452\n",
        " print(type(a))\n",
        " b=(-4587)\n",
        " print(type (b))\n",
        " c=0\n",
        " print(type (c))\n",
        " g=1.03\n",
        " print(type(g))\n",
        " h=-11.23\n",
        " print(type (g))\n",
        " i=.34\n",
        " print(type (i))\n",
        " j=2.12e-10\n",
        " print(type (j))\n",
        " k=5E220\n",
        " print(type(k))\n",
        "\n"
      ],
      "metadata": {
        "colab": {
          "base_uri": "https://localhost:8080/"
        },
        "id": "HCdxBSRGHGVo",
        "outputId": "6294a0cf-6fce-4f86-b2a3-eb0e7a1b1a99"
      },
      "execution_count": null,
      "outputs": [
        {
          "output_type": "stream",
          "name": "stdout",
          "text": [
            "<class 'int'>\n",
            "<class 'int'>\n",
            "<class 'int'>\n",
            "<class 'float'>\n",
            "<class 'float'>\n",
            "<class 'float'>\n",
            "<class 'float'>\n",
            "<class 'float'>\n"
          ]
        }
      ]
    },
    {
      "cell_type": "code",
      "source": [
        "x = complex(1,2)\n",
        "print (type(x))\n",
        "print(x)\n",
        "z = i+2j\n",
        "print (type (z))\n"
      ],
      "metadata": {
        "colab": {
          "base_uri": "https://localhost:8080/"
        },
        "id": "loguTjL9JdLL",
        "outputId": "f06dd1cc-8167-427b-a73a-61c47b7e0bf1"
      },
      "execution_count": null,
      "outputs": [
        {
          "output_type": "stream",
          "name": "stdout",
          "text": [
            "<class 'complex'>\n",
            "(1+2j)\n",
            "<class 'complex'>\n"
          ]
        }
      ]
    },
    {
      "cell_type": "code",
      "source": [
        "x = True\n",
        "print (type (x))\n",
        "y = False\n",
        "print (type (y))\n"
      ],
      "metadata": {
        "colab": {
          "base_uri": "https://localhost:8080/"
        },
        "id": "KGrZmssZLtTg",
        "outputId": "99e2033a-b873-4035-eac4-062f33a0cd96"
      },
      "execution_count": null,
      "outputs": [
        {
          "output_type": "stream",
          "name": "stdout",
          "text": [
            "<class 'bool'>\n",
            "<class 'bool'>\n"
          ]
        }
      ]
    },
    {
      "cell_type": "code",
      "source": [
        "strl = \"String\"\n",
        "print(strl)\n",
        "str2 = \"String\"\n",
        "print(str2)\n",
        "str3 = \"String'\n",
        "str2 = \"Day's\"\n",
        "print (str2)\n",
        "str2 = 'Day\"s'\n",
        "print(str2)"
      ],
      "metadata": {
        "colab": {
          "base_uri": "https://localhost:8080/",
          "height": 106
        },
        "id": "YZ4t8wJaMPmv",
        "outputId": "9a543d70-da52-404b-eb1a-a485d5561b18"
      },
      "execution_count": null,
      "outputs": [
        {
          "output_type": "error",
          "ename": "SyntaxError",
          "evalue": "unterminated string literal (detected at line 5) (<ipython-input-15-5faf20756917>, line 5)",
          "traceback": [
            "\u001b[0;36m  File \u001b[0;32m\"<ipython-input-15-5faf20756917>\"\u001b[0;36m, line \u001b[0;32m5\u001b[0m\n\u001b[0;31m    str3 = \"String'\u001b[0m\n\u001b[0m           ^\u001b[0m\n\u001b[0;31mSyntaxError\u001b[0m\u001b[0;31m:\u001b[0m unterminated string literal (detected at line 5)\n"
          ]
        }
      ]
    },
    {
      "cell_type": "code",
      "source": [
        "print (\"The is a backslash (\\\\ mark.)\")\n",
        "print(\"This is tab \\t key\")\n",
        "print(\"These are \\'single quotes\\'\")\n",
        "print(\"These are \\\"double quotes\\\"\")\n",
        "print(\"This is anew line\\nNew line\")"
      ],
      "metadata": {
        "colab": {
          "base_uri": "https://localhost:8080/"
        },
        "id": "EpZ3S01INq4w",
        "outputId": "c59c7e20-3add-4558-bdd0-aa5775d97135"
      },
      "execution_count": null,
      "outputs": [
        {
          "output_type": "stream",
          "name": "stdout",
          "text": [
            "The is a backslash (\\ mark.)\n",
            "This is tab \t key\n",
            "These are 'single quotes'\n",
            "These are \"double quotes\"\n",
            "This is anew line\n",
            "New line\n"
          ]
        }
      ]
    },
    {
      "cell_type": "code",
      "source": [
        "string1 = \"PYTHON TUTORIAL\"\n",
        "print(string1[0])\n",
        "print(string1[-15])\n",
        "print(string1[14])\n",
        "print(string1[-1])\n",
        "print(string1[4])\n",
        "print(string1[-11])"
      ],
      "metadata": {
        "colab": {
          "base_uri": "https://localhost:8080/"
        },
        "id": "JyNsy-2YPHPP",
        "outputId": "ac51c762-6d34-4ca6-8ee2-5bbbd97f2af3"
      },
      "execution_count": null,
      "outputs": [
        {
          "output_type": "stream",
          "name": "stdout",
          "text": [
            "P\n",
            "P\n",
            "L\n",
            "L\n",
            "O\n",
            "O\n"
          ]
        }
      ]
    },
    {
      "cell_type": "code",
      "source": [
        "my_list1=[5,12,13,14]\n",
        "print(my_list1)\n"
      ],
      "metadata": {
        "colab": {
          "base_uri": "https://localhost:8080/"
        },
        "id": "QPZpSEbiQQJw",
        "outputId": "4551fb59-eba8-47ef-ed14-b9d39f6c0039"
      },
      "execution_count": null,
      "outputs": [
        {
          "output_type": "stream",
          "name": "stdout",
          "text": [
            "[5, 12, 13, 14]\n"
          ]
        }
      ]
    },
    {
      "cell_type": "code",
      "source": [
        "my_list2=['red','blue','black']\n",
        "print(my_list2)\n",
        "my_list3=['red, 12, 112, 12']\n",
        "print(my_list3)"
      ],
      "metadata": {
        "colab": {
          "base_uri": "https://localhost:8080/"
        },
        "id": "MfN-g-j-QuHJ",
        "outputId": "a6cf3b81-68db-4c48-8d2b-aebd4dc8af5c"
      },
      "execution_count": 1,
      "outputs": [
        {
          "output_type": "stream",
          "name": "stdout",
          "text": [
            "['red', 'blue', 'black']\n",
            "['red, 12, 112, 12']\n"
          ]
        }
      ]
    },
    {
      "cell_type": "code",
      "source": [
        "my_list=[]\n",
        "print(my_list)\n",
        "[]"
      ],
      "metadata": {
        "id": "383gXHlVRNK6",
        "colab": {
          "base_uri": "https://localhost:8080/"
        },
        "outputId": "eb1258bb-8884-462e-94f0-0650d44a769b"
      },
      "execution_count": 2,
      "outputs": [
        {
          "output_type": "stream",
          "name": "stdout",
          "text": [
            "[]\n"
          ]
        },
        {
          "output_type": "execute_result",
          "data": {
            "text/plain": [
              "[]"
            ]
          },
          "metadata": {},
          "execution_count": 2
        }
      ]
    },
    {
      "cell_type": "code",
      "source": [
        "color_list=[\"RED\",\"Blue\",\"Green\",\"Black\"]\n",
        "color_list[0]\n",
        "print(color_list[0],color_list[3])\n",
        "color_list[-1]\n",
        "\n",
        "print(color_list[4])\n"
      ],
      "metadata": {
        "colab": {
          "base_uri": "https://localhost:8080/",
          "height": 52
        },
        "id": "dSr3LAxPNr4G",
        "outputId": "6f077e1b-b121-493a-948f-e1ae9a08bbb4"
      },
      "execution_count": 7,
      "outputs": [
        {
          "output_type": "stream",
          "name": "stdout",
          "text": [
            "RED Black\n"
          ]
        },
        {
          "output_type": "execute_result",
          "data": {
            "text/plain": [
              "'Black'"
            ],
            "application/vnd.google.colaboratory.intrinsic+json": {
              "type": "string"
            }
          },
          "metadata": {},
          "execution_count": 7
        }
      ]
    },
    {
      "cell_type": "code",
      "source": [
        "color_list=[\"RED\",\"Blue\",\"Green\",\"Black\"]\n",
        "print(color_list[0:2])\n",
        "print(color_list[1:2])\n",
        "print(color_list[1:-2])\n",
        "print(color_list[:3])\n",
        "print(color_list[:])"
      ],
      "metadata": {
        "colab": {
          "base_uri": "https://localhost:8080/"
        },
        "id": "YGGVnQ3SOBrR",
        "outputId": "f36c1743-06ba-4a44-e06e-b24f9f6ace8c"
      },
      "execution_count": 10,
      "outputs": [
        {
          "output_type": "stream",
          "name": "stdout",
          "text": [
            "['RED', 'Blue']\n",
            "['Blue']\n",
            "['Blue']\n",
            "['RED', 'Blue', 'Green']\n",
            "['RED', 'Blue', 'Green', 'Black']\n"
          ]
        }
      ]
    },
    {
      "cell_type": "code",
      "source": [],
      "metadata": {
        "id": "ljJQNknRPG2Y"
      },
      "execution_count": null,
      "outputs": []
    }
  ]
}