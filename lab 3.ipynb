{
  "nbformat": 4,
  "nbformat_minor": 0,
  "metadata": {
    "colab": {
      "provenance": []
    },
    "kernelspec": {
      "name": "python3",
      "display_name": "Python 3"
    },
    "language_info": {
      "name": "python"
    }
  },
  "cells": [
    {
      "cell_type": "code",
      "execution_count": 1,
      "metadata": {
        "colab": {
          "base_uri": "https://localhost:8080/"
        },
        "id": "ObL0KVYrVAKS",
        "outputId": "714d6bbf-819d-4cc5-940d-f0ac69d6b088"
      },
      "outputs": [
        {
          "output_type": "stream",
          "name": "stdout",
          "text": [
            "1505\n",
            "1540\n",
            "1575\n",
            "1610\n",
            "1645\n",
            "1680\n",
            "1715\n",
            "1750\n",
            "1785\n",
            "1820\n",
            "1855\n",
            "1890\n",
            "1925\n",
            "1960\n",
            "1995\n",
            "2030\n",
            "2065\n",
            "2100\n",
            "2135\n",
            "2170\n",
            "2205\n",
            "2240\n",
            "2275\n",
            "2310\n",
            "2345\n",
            "2380\n",
            "2415\n",
            "2450\n",
            "2485\n",
            "2520\n",
            "2555\n",
            "2590\n",
            "2625\n",
            "2660\n",
            "2695\n"
          ]
        }
      ],
      "source": [
        "#program to find numbers divisible by 7 andmultiple of 5 between range of 1500 and 2700\n",
        "for i  in range (1500, 2701):\n",
        "  if (i%7==0) and (i%5==0):\n",
        "    print(i)"
      ]
    },
    {
      "cell_type": "code",
      "source": [
        "#converter for temperature\n",
        "def convert_celsius_to_fahrenheit(celsius):\n",
        "  \"\"\"Converts Celsius to Fahrenheit.\"\"\"\n",
        "  fahrenheit = (9/5) * celsius + 32\n",
        "  return fahrenheit\n",
        "\n",
        "def convert_fahrenheit_to_celsius(fahrenheit):\n",
        "  \"\"\"Converts Fahrenheit to Celsius.\"\"\"\n",
        "  celsius = (5/9) * (fahrenheit - 32)\n",
        "  return celsius\n",
        "\n",
        "# Get user input\n",
        "temperature_value = float(input(\"Enter the temperature value: \"))\n",
        "temperature_unit = input(\"Enter the unit (C for Celsius, F for Fahrenheit): \").upper()\n",
        "\n",
        "# Perform conversion and print result\n",
        "if temperature_unit == 'C':\n",
        "  converted_temperature = convert_celsius_to_fahrenheit(temperature_value)\n",
        "  print(f\"{temperature_value} degrees Celsius is equal to {converted_temperature} degrees Fahrenheit.\")\n",
        "elif temperature_unit == 'F':\n",
        "  converted_temperature = convert_fahrenheit_to_celsius(temperature_value)\n",
        "  print(f\"{temperature_value} degrees Fahrenheit is equal to {converted_temperature} degrees Celsius.\")\n",
        "else:\n",
        "  print(\"Invalid unit. Please enter C or F.\")"
      ],
      "metadata": {
        "colab": {
          "base_uri": "https://localhost:8080/"
        },
        "id": "Q6X5jTS0VdKy",
        "outputId": "b710f99e-fe6c-42ae-989f-be41cf98bd33"
      },
      "execution_count": 3,
      "outputs": [
        {
          "output_type": "stream",
          "name": "stdout",
          "text": [
            "Enter the temperature value: 90\n",
            "Enter the unit (C for Celsius, F for Fahrenheit): c\n",
            "90.0 degrees Celsius is equal to 194.0 degrees Fahrenheit.\n"
          ]
        }
      ]
    },
    {
      "cell_type": "code",
      "source": [
        "#Program to guess a number between 1 to 9\n",
        "x = 5\n",
        "while True:\n",
        "  guess = int(input(\"guess a number between 1 to 9:  \"))\n",
        "  if guess == x :\n",
        "    print(\"Congratulations! you guessed a number prcisely\")\n",
        "    break\n",
        "  else:\n",
        "    print(\"plz try again !\")"
      ],
      "metadata": {
        "colab": {
          "base_uri": "https://localhost:8080/"
        },
        "id": "4OUFA-pUVwSN",
        "outputId": "2daed61f-bfb0-4cff-89ab-abe3d7934415"
      },
      "execution_count": 4,
      "outputs": [
        {
          "output_type": "stream",
          "name": "stdout",
          "text": [
            "guess a number between 1 to 9:  8\n",
            "plz try again !\n",
            "guess a number between 1 to 9:  5\n",
            "Congratulations! you guessed a number prcisely\n"
          ]
        }
      ]
    },
    {
      "cell_type": "code",
      "source": [
        "#Design a pettern using nested loop\n",
        "# Increasing pattern\n",
        "for i in range(1, 6):\n",
        "    for j in range(i):\n",
        "        print(\"*\", end=\"\")\n",
        "    print()\n",
        "\n",
        "# Decreasing pattern\n",
        "for i in range(4, 0, -1):\n",
        "    for j in range(i):\n",
        "        print(\"*\", end=\"\")\n",
        "    print()"
      ],
      "metadata": {
        "colab": {
          "base_uri": "https://localhost:8080/"
        },
        "id": "53JtLuRQWMlr",
        "outputId": "10fc1acc-9730-4158-e043-2ba4eb209ffc"
      },
      "execution_count": 5,
      "outputs": [
        {
          "output_type": "stream",
          "name": "stdout",
          "text": [
            "*\n",
            "**\n",
            "***\n",
            "****\n",
            "*****\n",
            "****\n",
            "***\n",
            "**\n",
            "*\n"
          ]
        }
      ]
    },
    {
      "cell_type": "code",
      "source": [
        "#Reverse the accepted words from the user\n",
        "x = input(\"plz enter a word:  \")\n",
        "reversed_word = reversed(x)\n",
        "print(''.join(reversed_word))"
      ],
      "metadata": {
        "colab": {
          "base_uri": "https://localhost:8080/"
        },
        "id": "zgPcHbjHWaxo",
        "outputId": "8c45012c-d825-4de8-c905-078d7125051e"
      },
      "execution_count": 6,
      "outputs": [
        {
          "output_type": "stream",
          "name": "stdout",
          "text": [
            "plz enter a word:  abu bakar\n",
            "rakab uba\n"
          ]
        }
      ]
    },
    {
      "cell_type": "code",
      "source": [
        "#A program to count the number of even and odd numbers from a series of number\n",
        "numbers = (1,2,3,4,5,6,7,8,9)\n",
        "count_even = 0\n",
        "count_odd =0\n",
        "for i in numbers:\n",
        "  if i%2==0:\n",
        "    count_even =count_even+1\n",
        "  else:\n",
        "    count_odd = count_odd+1\n",
        "\n",
        "print(f'\"count_even : \"{count_even}    \"count_odd : \"{count_odd}')\n"
      ],
      "metadata": {
        "colab": {
          "base_uri": "https://localhost:8080/"
        },
        "id": "GoFqqY9VWm8P",
        "outputId": "c4e4ad0e-fa26-4f22-b8c6-36d1218e34fe"
      },
      "execution_count": 7,
      "outputs": [
        {
          "output_type": "stream",
          "name": "stdout",
          "text": [
            "\"count_even : \"4    \"count_odd : \"5\n"
          ]
        }
      ]
    },
    {
      "cell_type": "code",
      "source": [
        "#A program which prints the item and its type from a list\n",
        "list = [1452,11.23,1+2j,True,'w3resource',(0,-1),[5,12],{\"class\":'V', \"section\":'A'}]\n",
        "print(list[2])\n",
        "print(type(list[2]))"
      ],
      "metadata": {
        "colab": {
          "base_uri": "https://localhost:8080/"
        },
        "id": "bKbe9hF4WzUZ",
        "outputId": "298093e7-0a46-4fa3-a57a-8c956883a4c8"
      },
      "execution_count": 8,
      "outputs": [
        {
          "output_type": "stream",
          "name": "stdout",
          "text": [
            "(1+2j)\n",
            "<class 'complex'>\n"
          ]
        }
      ]
    },
    {
      "cell_type": "code",
      "source": [
        "#A program whhich prints all numbers from 0 to 6 except 3 and 6\n",
        "#USE CONTINUE STATEMENT\n",
        "for i in range(0,7):\n",
        "  if i == 3 or i == 6:\n",
        "    continue\n",
        "  else:\n",
        "   print(i)\n"
      ],
      "metadata": {
        "colab": {
          "base_uri": "https://localhost:8080/"
        },
        "id": "2_dP2udGYCS5",
        "outputId": "b5ea7b4b-9254-4b5c-df18-4e02a5864377"
      },
      "execution_count": 9,
      "outputs": [
        {
          "output_type": "stream",
          "name": "stdout",
          "text": [
            "0\n",
            "1\n",
            "2\n",
            "4\n",
            "5\n"
          ]
        }
      ]
    },
    {
      "cell_type": "code",
      "source": [
        "#A program to get the Fibonacci series between 0 to 50\n",
        "list = []\n",
        "for i in range(0,50):\n",
        "  list.append(i)\n",
        "\n",
        "\n",
        "number_previous =list[0]\n",
        "number_current_previous = list[1]\n",
        "\n",
        "fibonacci_list = [0,1]\n",
        "for i in range(3,11):\n",
        "  fib_num = number_previous+number_current_previous\n",
        "  fibonacci_list.append(fib_num)\n",
        "  number_previous = number_current_previous\n",
        "  number_current_previous = fib_num\n",
        "\n",
        "\n",
        "print(fibonacci_list)\n"
      ],
      "metadata": {
        "colab": {
          "base_uri": "https://localhost:8080/"
        },
        "id": "sumgHksHYM8t",
        "outputId": "daedd1c0-2168-4b87-f606-a9f2a6e9fc19"
      },
      "execution_count": 10,
      "outputs": [
        {
          "output_type": "stream",
          "name": "stdout",
          "text": [
            "[0, 1, 1, 2, 3, 5, 8, 13, 21, 34]\n"
          ]
        }
      ]
    },
    {
      "cell_type": "code",
      "source": [
        "#A program which prints \"Fizz\" for numbers of multiple of 3 and print \"buzz\" for multipule of 5 and print \"FizzBuzz\" for both\n",
        "for i in range(1,51):\n",
        "  if i%3==0 :\n",
        "    print(\"Fizz\")\n",
        "  elif(i%5==0):\n",
        "    print(\"Buzz\")\n",
        "  elif(i%3==0 and i%5==0):\n",
        "    print(\"FizzBuzz\")\n",
        "  else:\n",
        "    print(i)"
      ],
      "metadata": {
        "colab": {
          "base_uri": "https://localhost:8080/"
        },
        "id": "29mPjy5GYdjO",
        "outputId": "74996f29-a8d0-41f0-925a-ae9620ddc9c1"
      },
      "execution_count": 11,
      "outputs": [
        {
          "output_type": "stream",
          "name": "stdout",
          "text": [
            "1\n",
            "2\n",
            "Fizz\n",
            "4\n",
            "Buzz\n",
            "Fizz\n",
            "7\n",
            "8\n",
            "Fizz\n",
            "Buzz\n",
            "11\n",
            "Fizz\n",
            "13\n",
            "14\n",
            "Fizz\n",
            "16\n",
            "17\n",
            "Fizz\n",
            "19\n",
            "Buzz\n",
            "Fizz\n",
            "22\n",
            "23\n",
            "Fizz\n",
            "Buzz\n",
            "26\n",
            "Fizz\n",
            "28\n",
            "29\n",
            "Fizz\n",
            "31\n",
            "32\n",
            "Fizz\n",
            "34\n",
            "Buzz\n",
            "Fizz\n",
            "37\n",
            "38\n",
            "Fizz\n",
            "Buzz\n",
            "41\n",
            "Fizz\n",
            "43\n",
            "44\n",
            "Fizz\n",
            "46\n",
            "47\n",
            "Fizz\n",
            "49\n",
            "Buzz\n"
          ]
        }
      ]
    },
    {
      "cell_type": "code",
      "source": [
        "#A program that accepts sequence of charachter lines  and prints in lower case\n",
        "string =  '''AAAAAAAAAAAAAABBBBBBBBBBBBBBB'''\n",
        "print(string.lower())"
      ],
      "metadata": {
        "colab": {
          "base_uri": "https://localhost:8080/"
        },
        "id": "B1_tT4B2Yp7u",
        "outputId": "99e143c3-31b1-41df-823d-e5dce73b58a4"
      },
      "execution_count": 12,
      "outputs": [
        {
          "output_type": "stream",
          "name": "stdout",
          "text": [
            "aaaaaaaaaaaaaabbbbbbbbbbbbbbb\n"
          ]
        }
      ]
    },
    {
      "cell_type": "code",
      "source": [
        "# A program which accepts a binary number of 4 digits and print that  which is divisible of 5\n",
        "list = []\n",
        "for i in range(1,5):\n",
        "  x = int(input(\"plz enter 4 digits binary numbers : \"))\n",
        "  list.append(x)\n",
        "\n",
        "print(list)\n",
        "for i in range(len(list)):\n",
        "  if int(list[i])%5==0:\n",
        "    print(list[i])"
      ],
      "metadata": {
        "colab": {
          "base_uri": "https://localhost:8080/"
        },
        "id": "CJNAtF5-ZDIu",
        "outputId": "1bee10a5-32af-4ed7-9ecf-e53b379434a6"
      },
      "execution_count": 14,
      "outputs": [
        {
          "output_type": "stream",
          "name": "stdout",
          "text": [
            "plz enter 4 digits binary numbers : 1000\n",
            "plz enter 4 digits binary numbers : 4000\n",
            "plz enter 4 digits binary numbers : 0001\n",
            "plz enter 4 digits binary numbers : 1111\n",
            "[1000, 4000, 1, 1111]\n",
            "1000\n",
            "4000\n"
          ]
        }
      ]
    },
    {
      "cell_type": "code",
      "source": [
        "#A progarm which accepts a tring and count alphabets and digit in it\n",
        "string = \"Python 3.2 \"\n",
        "count_alpha = 0\n",
        "count_digit = 0\n",
        "for char in string:\n",
        "  if char.isalpha():\n",
        "    count_alpha += 1\n",
        "  elif char.isdigit():\n",
        "    count_digit += 1\n",
        "\n",
        "print(\"Letters: \", count_alpha)\n",
        "print(\"Digits: \", count_digit)"
      ],
      "metadata": {
        "colab": {
          "base_uri": "https://localhost:8080/"
        },
        "id": "Ml9D6C29Zb-N",
        "outputId": "04d1e548-0445-4d23-94aa-fc9ea52bea5e"
      },
      "execution_count": 15,
      "outputs": [
        {
          "output_type": "stream",
          "name": "stdout",
          "text": [
            "Letters:  6\n",
            "Digits:  2\n"
          ]
        }
      ]
    },
    {
      "cell_type": "code",
      "source": [
        "#A program takes row(m) and column(n) as input and generates two_dimentional array and the elenments should be i*j\n",
        "# Get input for number of rows and columns\n",
        "m = int(input(\"Enter the number of rows: \"))\n",
        "n = int(input(\"Enter the number of columns: \"))\n",
        "\n",
        "# Create a 2D array filled with zeros\n",
        "array_2d = [[0 for j in range(n)] for i in range(m)]\n",
        "\n",
        "# Fill the array with i*j\n",
        "for i in range(m):\n",
        "  for j in range(n):\n",
        "    array_2d[i][j] = i * j\n",
        "\n",
        "# Print the 2D array\n",
        "print(array_2d)"
      ],
      "metadata": {
        "colab": {
          "base_uri": "https://localhost:8080/"
        },
        "id": "esGeeSdYZ3Ws",
        "outputId": "4f3c11bc-f03b-4293-ced1-2295a7bf02d2"
      },
      "execution_count": 16,
      "outputs": [
        {
          "output_type": "stream",
          "name": "stdout",
          "text": [
            "Enter the number of rows: 5\n",
            "Enter the number of columns: 5\n",
            "[[0, 0, 0, 0, 0], [0, 1, 2, 3, 4], [0, 2, 4, 6, 8], [0, 3, 6, 9, 12], [0, 4, 8, 12, 16]]\n"
          ]
        }
      ]
    },
    {
      "cell_type": "code",
      "source": [],
      "metadata": {
        "id": "jbB52KwpaA_Q"
      },
      "execution_count": null,
      "outputs": []
    }
  ]
}