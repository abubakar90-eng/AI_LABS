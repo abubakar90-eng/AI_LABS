{
  "nbformat": 4,
  "nbformat_minor": 0,
  "metadata": {
    "colab": {
      "provenance": []
    },
    "kernelspec": {
      "name": "python3",
      "display_name": "Python 3"
    },
    "language_info": {
      "name": "python"
    }
  },
  "cells": [
    {
      "cell_type": "code",
      "execution_count": 3,
      "metadata": {
        "id": "1c0dHLLUm3UL"
      },
      "outputs": [],
      "source": [
        "# While loop\n",
        "\n",
        "count = 3\n",
        "while(count<3):\n",
        "    count = count + 1\n",
        "    print(\"Count number\")\n"
      ]
    },
    {
      "cell_type": "code",
      "source": [
        "# Single Statement While Loop\n",
        "count = 0\n",
        "while(count == 10): print(\"Hello\")"
      ],
      "metadata": {
        "id": "raaDy2wjnA04"
      },
      "execution_count": null,
      "outputs": []
    },
    {
      "cell_type": "code",
      "source": [
        "# For Loop\n",
        "list = [\"Apex Legends\", \"Resident Evil 4\", \"God of War\"]\n",
        "for i in list:\n",
        "    print(i)"
      ],
      "metadata": {
        "id": "p_U9mubCnT53"
      },
      "execution_count": null,
      "outputs": []
    },
    {
      "cell_type": "code",
      "source": [
        "# Tuple\n",
        "tuple = (\"Apex Legends\", \"Resident Evil 4\", \"God of War\")\n",
        "for i in tuple:\n",
        "    print(i)"
      ],
      "metadata": {
        "id": "z1q5SonOnXOf"
      },
      "execution_count": null,
      "outputs": []
    },
    {
      "cell_type": "code",
      "source": [
        "# String\n",
        "string = \"Name\"\n",
        "for i in string:\n",
        "    print(i)"
      ],
      "metadata": {
        "id": "LN--E7f4ncO2"
      },
      "execution_count": null,
      "outputs": []
    },
    {
      "cell_type": "code",
      "source": [
        "# Loop Control\n",
        "# Break\n",
        "\n",
        "string = \"Name\"\n",
        "for letter in string:\n",
        "    if letter == \"a\":\n",
        "        break\n",
        "\n",
        "print(f\"Current letter is: {letter}\")"
      ],
      "metadata": {
        "id": "Y09MvkXqnhUF"
      },
      "execution_count": null,
      "outputs": []
    },
    {
      "cell_type": "code",
      "source": [
        "# Continue\n",
        "\n",
        "string = \"Name\"\n",
        "for letter in string:\n",
        "    if letter == \"a\":\n",
        "        continue\n",
        "\n",
        "print(f\"Current letter is: {letter}\")"
      ],
      "metadata": {
        "id": "T7pdqAC0nnKm"
      },
      "execution_count": null,
      "outputs": []
    },
    {
      "cell_type": "code",
      "source": [
        "# Functions\n",
        "\n",
        "def my_function(a):\n",
        "    print(a)\n",
        "    print(type(a))\n",
        "\n",
        "\n",
        "my_function(1.00)\n",
        "\n",
        "\n",
        "def function(country):\n",
        "    for i in country:\n",
        "        print(i)\n",
        "\n",
        "country = [\"Pakistan\", \"China\", \"Spain\"]\n",
        "\n",
        "function(country)\n",
        "\n",
        "def func(number):\n",
        "    return 5*number\n",
        "\n",
        "print(func(5))\n",
        "\n",
        "# Keyword Arguments\n",
        "\n",
        "def my_func(anime1, anime2, anime3):\n",
        "    print(\"The most popular is: \" + anime1)\n",
        "\n",
        "my_func(\"Naruto\", \"Bleech\", \"One Piece\")\n"
      ],
      "metadata": {
        "id": "f-XRHY8gnrx6"
      },
      "execution_count": null,
      "outputs": []
    },
    {
      "cell_type": "code",
      "source": [
        "# Classes and Objects\n",
        "\n",
        "# Classes\n",
        "\n",
        "class Person:\n",
        "    def _init_(self, name, age):\n",
        "        self.name = name\n",
        "        self.age = age\n",
        "    def myFunction(self):\n",
        "        print(\"My name is \"+self.name)\n",
        "\n",
        "\n",
        "p1 = Person(\"John\", \"22\")\n",
        "p1.myFunction()"
      ],
      "metadata": {
        "colab": {
          "base_uri": "https://localhost:8080/",
          "height": 193
        },
        "id": "VsSn-JF6n5pG",
        "outputId": "22ee00ea-3693-442c-f43c-156a5e51d778"
      },
      "execution_count": 5,
      "outputs": [
        {
          "output_type": "error",
          "ename": "TypeError",
          "evalue": "Person() takes no arguments",
          "traceback": [
            "\u001b[0;31m---------------------------------------------------------------------------\u001b[0m",
            "\u001b[0;31mTypeError\u001b[0m                                 Traceback (most recent call last)",
            "\u001b[0;32m<ipython-input-5-5d1c82965da5>\u001b[0m in \u001b[0;36m<cell line: 13>\u001b[0;34m()\u001b[0m\n\u001b[1;32m     11\u001b[0m \u001b[0;34m\u001b[0m\u001b[0m\n\u001b[1;32m     12\u001b[0m \u001b[0;34m\u001b[0m\u001b[0m\n\u001b[0;32m---> 13\u001b[0;31m \u001b[0mp1\u001b[0m \u001b[0;34m=\u001b[0m \u001b[0mPerson\u001b[0m\u001b[0;34m(\u001b[0m\u001b[0;34m\"Name\"\u001b[0m\u001b[0;34m,\u001b[0m \u001b[0;34m\"22\"\u001b[0m\u001b[0;34m)\u001b[0m\u001b[0;34m\u001b[0m\u001b[0;34m\u001b[0m\u001b[0m\n\u001b[0m\u001b[1;32m     14\u001b[0m \u001b[0mp1\u001b[0m\u001b[0;34m.\u001b[0m\u001b[0mmyFunction\u001b[0m\u001b[0;34m(\u001b[0m\u001b[0;34m)\u001b[0m\u001b[0;34m\u001b[0m\u001b[0;34m\u001b[0m\u001b[0m\n",
            "\u001b[0;31mTypeError\u001b[0m: Person() takes no arguments"
          ]
        }
      ]
    }
  ]
}